{
 "cells": [
  {
   "cell_type": "markdown",
   "metadata": {},
   "source": [
    "# Image Classification with CNN"
   ]
  },
  {
   "cell_type": "markdown",
   "metadata": {},
   "source": [
    "## 1. Introduction"
   ]
  },
  {
   "cell_type": "markdown",
   "metadata": {},
   "source": [
    "### 1.1 Load packages"
   ]
  },
  {
   "cell_type": "code",
   "execution_count": 1,
   "metadata": {},
   "outputs": [],
   "source": [
    "import os\n",
    "\n",
    "import pandas as pd\n",
    "import numpy as np\n",
    "from matplotlib import pyplot as plt"
   ]
  },
  {
   "cell_type": "code",
   "execution_count": null,
   "metadata": {},
   "outputs": [],
   "source": [
    "import tensorflow as tf\n",
    "import keras_tuner as kt\n",
    "from tensorflow import keras"
   ]
  },
  {
   "cell_type": "code",
   "execution_count": null,
   "metadata": {},
   "outputs": [],
   "source": [
    "# miscellaneous\n",
    "import warnings\n",
    "warnings.filterwarnings(\"ignore\")"
   ]
  },
  {
   "cell_type": "markdown",
   "metadata": {},
   "source": [
    "### 1.2 Getting images data into keras"
   ]
  },
  {
   "cell_type": "code",
   "execution_count": null,
   "metadata": {},
   "outputs": [],
   "source": [
    "# this are the folder names\n",
    "classes = os.listdir('./train_images')\n",
    "classes"
   ]
  },
  {
   "cell_type": "code",
   "execution_count": null,
   "metadata": {},
   "outputs": [],
   "source": [
    "# define an image data generator\n",
    "data_gen = keras.preprocessing.image.ImageDataGenerator(\n",
    "    # define the preprocessing function that should be applied to all images\n",
    "    preprocessing_function=keras.applications.mobilenet_v2.preprocess_input,\n",
    "    \n",
    "# rotation_range=20,\n",
    "    # width_shift_range=0.2,\n",
    "    # height_shift_range=0.2,\n",
    "    # horizontal_flip=True, \n",
    "    # zoom_range=0.2,\n",
    "   \n",
    ")"
   ]
  },
  {
   "cell_type": "code",
   "execution_count": null,
   "metadata": {},
   "outputs": [],
   "source": [
    "# a generator that returns batches of X and y arrays\n",
    "train_data_gen = data_gen.flow_from_directory(\n",
    "        directory='./train_images',\n",
    "        class_mode=\"categorical\",\n",
    "        classes=classes,\n",
    "        batch_size=480,\n",
    "        target_size=(224, 224)\n",
    ")"
   ]
  },
  {
   "cell_type": "code",
   "execution_count": null,
   "metadata": {},
   "outputs": [],
   "source": [
    "# load in all images at once\n",
    "xtrain, ytrain = next(train_data_gen)\n",
    "xtrain.shape, ytrain.shape"
   ]
  },
  {
   "cell_type": "markdown",
   "metadata": {},
   "source": [
    "## 2. Model Building "
   ]
  },
  {
   "cell_type": "markdown",
   "metadata": {},
   "source": [
    "### 2.1 Select the convolutional base and freeze the weights"
   ]
  },
  {
   "cell_type": "code",
   "execution_count": null,
   "metadata": {},
   "outputs": [],
   "source": [
    "base_model = keras.applications.mobilenet_v2.MobileNetV2(\n",
    "    weights='imagenet', \n",
    "    alpha=1.0,         # specific parameter of this model, small alpha reduces the number of overall weights\n",
    "    pooling='avg',      # applies global average pooling to the output of the last conv layer (like a flattening)\n",
    "    include_top=False,  # we only want to have the base, not the final dense layers \n",
    "    input_shape=(224, 224, 3)\n",
    ")\n",
    "\n",
    "# freeze it!\n",
    "base_model.trainable = False"
   ]
  },
  {
   "cell_type": "code",
   "execution_count": null,
   "metadata": {},
   "outputs": [],
   "source": [
    "base_model.summary()"
   ]
  },
  {
   "cell_type": "markdown",
   "metadata": {},
   "source": [
    "### 2.2 Add dense layers on top"
   ]
  },
  {
   "cell_type": "code",
   "execution_count": null,
   "metadata": {},
   "outputs": [],
   "source": [
    "def model_builder(hp):\n",
    "    '''\n",
    "    Args:\n",
    "    hp - Keras tuner object\n",
    "    '''\n",
    "    # Initialize the Sequential API and start stacking the layers\n",
    "    model = keras.Sequential()\n",
    "    model.add(base_model)\n",
    "    \n",
    "    # Tune the number of units in the first Dense layer\n",
    "    # Choose an optimal value between 32-160\n",
    "    hp_units = hp.Int('units', min_value=32, max_value=160, step=32)\n",
    "    model.add(keras.layers.Dense(units=hp_units, activation='relu'))\n",
    "    \n",
    "    # Add next layers\n",
    "    model.add(keras.layers.Dropout(0.5))\n",
    "    model.add(keras.layers.Dense(len(classes), activation='softmax'))\n",
    "    \n",
    "    # Tune the learning rate for the optimizer\n",
    "    # Choose an optimal value from 0.01, 0.001, or 0.0001\n",
    "    hp_learning_rate = hp.Choice('learning_rate', values=[1e-2, 1e-3, 1e-4])\n",
    "    model.compile(optimizer=keras.optimizers.Adam(learning_rate=hp_learning_rate),\n",
    "              loss=keras.losses.categorical_crossentropy,\n",
    "              metrics=[keras.metrics.categorical_accuracy])\n",
    "\n",
    "    return model"
   ]
  },
  {
   "cell_type": "markdown",
   "metadata": {},
   "source": [
    "## 3. Hyperparameter Tuning"
   ]
  },
  {
   "cell_type": "code",
   "execution_count": null,
   "metadata": {},
   "outputs": [],
   "source": [
    "# Instantiate the tuner\n",
    "tuner = kt.Hyperband(model_builder, # the hypermodel\n",
    "                     objective='val_categorical_accuracy', # objective to optimize\n",
    "                     max_epochs=50,\n",
    "                     hyperband_iterations=3,\n",
    "                     project_name='tuning_results')"
   ]
  },
  {
   "cell_type": "code",
   "execution_count": null,
   "metadata": {},
   "outputs": [],
   "source": [
    "# hypertuning settings\n",
    "tuner.search_space_summary() "
   ]
  },
  {
   "cell_type": "code",
   "execution_count": null,
   "metadata": {},
   "outputs": [],
   "source": [
    "# Perform hypertuning\n",
    "stop_early = keras.callbacks.EarlyStopping(monitor='val_loss', patience=5)\n",
    "\n",
    "tf.autograph.experimental.do_not_convert\n",
    "tuner.search(xtrain, ytrain,\n",
    "             epochs=50,\n",
    "             batch_size=16,\n",
    "             callbacks=[stop_early],\n",
    "             validation_split=1/6)"
   ]
  },
  {
   "cell_type": "code",
   "execution_count": null,
   "metadata": {},
   "outputs": [],
   "source": [
    "# best_model = tuner.get_best_models(1)[0]"
   ]
  },
  {
   "cell_type": "code",
   "execution_count": null,
   "metadata": {},
   "outputs": [],
   "source": [
    "# best hyperparameters\n",
    "best_hp=tuner.get_best_hyperparameters(1)[0]"
   ]
  },
  {
   "cell_type": "code",
   "execution_count": null,
   "metadata": {},
   "outputs": [],
   "source": [
    "# Build the model with the optimal hyperparameters\n",
    "h_model = tuner.hypermodel.build(best_hp)\n",
    "h_model.summary()"
   ]
  },
  {
   "cell_type": "markdown",
   "metadata": {},
   "source": [
    "## 4. Model Training"
   ]
  },
  {
   "cell_type": "code",
   "execution_count": null,
   "metadata": {},
   "outputs": [],
   "source": [
    "tf.autograph.experimental.do_not_convert\n",
    "h_model.fit(xtrain, ytrain,\n",
    "            epochs=50,\n",
    "            batch_size=16,\n",
    "            callbacks=[stop_early],\n",
    "            validation_split=1/6)"
   ]
  },
  {
   "cell_type": "code",
   "execution_count": null,
   "metadata": {},
   "outputs": [],
   "source": [
    "losses = pd.DataFrame(h_model.history.history) # losses in the training history\n",
    "epoch = losses.index.values+np.ones_like(losses.index.values) # epoch number\n",
    "loss = losses['loss'].values # training loss\n",
    "val_loss = losses['val_loss'].values # validation loss"
   ]
  },
  {
   "cell_type": "code",
   "execution_count": null,
   "metadata": {},
   "outputs": [],
   "source": [
    "# plot losses against epoch number in log-scale\n",
    "plt.figure(figsize=(8,5),dpi=100)\n",
    "plt.semilogx(epoch, loss, linewidth=1.5, label='loss')\n",
    "plt.semilogx(epoch, val_loss, linewidth=1.5, label='val_loss')\n",
    "plt.xlabel('Epoch',fontsize=12)\n",
    "plt.ylabel('Loss Value',fontsize=12)\n",
    "plt.legend(loc=1,fontsize=12)\n",
    "None"
   ]
  },
  {
   "cell_type": "markdown",
   "metadata": {},
   "source": [
    "## 5. Model Evaluation"
   ]
  },
  {
   "cell_type": "code",
   "execution_count": null,
   "metadata": {},
   "outputs": [],
   "source": [
    "img_test = keras.preprocessing.image.load_img('test_images/phone_1.png', target_size=(224,224))\n",
    "img_test"
   ]
  },
  {
   "cell_type": "code",
   "execution_count": null,
   "metadata": {},
   "outputs": [],
   "source": [
    "def image_classification(image_path, model):\n",
    "    image = keras.preprocessing.image.load_img(image_path, target_size=(224,224))\n",
    "    pic_array = keras.preprocessing.image.img_to_array(image)\n",
    "    image_batch = np.expand_dims(pic_array, axis=0)\n",
    "    processed_image = keras.applications.mobilenet_v2.preprocess_input(image_batch)\n",
    "    probs = h_model.predict(processed_image)[0].tolist()\n",
    "    zipped = sorted(list(zip(classes, probs)), key=lambda x: x[1], reverse=True)\n",
    "    image_class = [zipped[i][0] for i in range(len(zipped))]\n",
    "    probability  = [zipped[i][1]*100 for i in range(len(zipped))]\n",
    "    df = pd.DataFrame(data={'image_class':image_class, 'probability(%)': probability})\n",
    "    return df"
   ]
  },
  {
   "cell_type": "code",
   "execution_count": null,
   "metadata": {},
   "outputs": [],
   "source": [
    "tf.autograph.experimental.do_not_convert\n",
    "image_classification('test_images/phone_1.png', h_model)"
   ]
  },
  {
   "cell_type": "code",
   "execution_count": null,
   "metadata": {},
   "outputs": [],
   "source": []
  },
  {
   "cell_type": "code",
   "execution_count": null,
   "metadata": {},
   "outputs": [],
   "source": []
  }
 ],
 "metadata": {
  "kernelspec": {
   "display_name": "Python 3",
   "language": "python",
   "name": "python3"
  },
  "language_info": {
   "codemirror_mode": {
    "name": "ipython",
    "version": 3
   },
   "file_extension": ".py",
   "mimetype": "text/x-python",
   "name": "python",
   "nbconvert_exporter": "python",
   "pygments_lexer": "ipython3",
   "version": "3.7.0"
  }
 },
 "nbformat": 4,
 "nbformat_minor": 2
}
